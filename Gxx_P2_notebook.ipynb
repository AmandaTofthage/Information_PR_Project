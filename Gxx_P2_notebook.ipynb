{
 "cells": [
  {
   "cell_type": "markdown",
   "metadata": {},
   "source": [
    "<H3>PRI 2023/24: second\n",
    "    project delivery</H3>"
   ]
  },
  {
   "cell_type": "markdown",
   "metadata": {},
   "source": [
    "**GROUP 1**\n",
    "- Amanda Tofthagen, 113124\n",
    "- Tora Kristine Løtveit, 112927\n",
    "- Tuva Grønvold Natvig, 113107"
   ]
  },
  {
   "cell_type": "markdown",
   "metadata": {},
   "source": [
    "<H2>Main facilities</H2>"
   ]
  },
  {
   "cell_type": "markdown",
   "metadata": {},
   "source": [
    "#### Loading and preproccesing data (using with functions made in project 1)"
   ]
  },
  {
   "cell_type": "code",
   "execution_count": 1,
   "metadata": {},
   "outputs": [
    {
     "name": "stderr",
     "output_type": "stream",
     "text": [
      "[nltk_data] Error loading punkt: <urlopen error [SSL:\n",
      "[nltk_data]     CERTIFICATE_VERIFY_FAILED] certificate verify failed:\n",
      "[nltk_data]     unable to get local issuer certificate (_ssl.c:1007)>\n",
      "[nltk_data] Error loading punkt_tab: <urlopen error [SSL:\n",
      "[nltk_data]     CERTIFICATE_VERIFY_FAILED] certificate verify failed:\n",
      "[nltk_data]     unable to get local issuer certificate (_ssl.c:1007)>\n",
      "[nltk_data] Error loading stopwords: <urlopen error [SSL:\n",
      "[nltk_data]     CERTIFICATE_VERIFY_FAILED] certificate verify failed:\n",
      "[nltk_data]     unable to get local issuer certificate (_ssl.c:1007)>\n",
      "[nltk_data] Error loading wordnet: <urlopen error [SSL:\n",
      "[nltk_data]     CERTIFICATE_VERIFY_FAILED] certificate verify failed:\n",
      "[nltk_data]     unable to get local issuer certificate (_ssl.c:1007)>\n"
     ]
    },
    {
     "data": {
      "text/plain": [
       "False"
      ]
     },
     "execution_count": 1,
     "metadata": {},
     "output_type": "execute_result"
    }
   ],
   "source": [
    "import nltk  \n",
    "import random\n",
    "import numpy as np\n",
    "import pandas as pd\n",
    "import matplotlib.pyplot as plt\n",
    "import xml.etree.ElementTree as ET\n",
    "from collections import defaultdict\n",
    "from string import punctuation\n",
    "from nltk.corpus import stopwords\n",
    "from nltk.stem import WordNetLemmatizer\n",
    "from nltk.tokenize import word_tokenize\n",
    "from rank_bm25 import BM25Okapi\n",
    "from sklearn.feature_extraction.text import TfidfVectorizer\n",
    "from sklearn.cluster import KMeans\n",
    "from sklearn.metrics import silhouette_score\n",
    "from scipy.cluster.hierarchy import dendrogram, linkage\n",
    "from sklearn.metrics.pairwise import euclidean_distances\n",
    "from sklearn.decomposition import PCA\n",
    "from rank_bm25 import BM25Okapi\n",
    "from sklearn.preprocessing import normalize\n",
    "\n",
    "\n",
    "nltk.download('punkt')\n",
    "nltk.download('punkt_tab')\n",
    "nltk.download('stopwords')\n",
    "nltk.download('wordnet')"
   ]
  },
  {
   "cell_type": "code",
   "execution_count": 2,
   "metadata": {},
   "outputs": [],
   "source": [
    "# Setup and data preparation \n",
    "def preprocess_text(text):\n",
    "    # Convert text to lower case and tokenize\n",
    "    tokens = word_tokenize(text.lower())\n",
    "    # Remove punctuation\n",
    "    tokens = [token for token in tokens if token not in punctuation]\n",
    "    # Remove stopwords\n",
    "    stop_words = set(stopwords.words('english'))\n",
    "    tokens = [token for token in tokens if token not in stop_words]\n",
    "    # Lemmatize tokens\n",
    "    lemmatizer = WordNetLemmatizer()\n",
    "    tokens = [lemmatizer.lemmatize(token) for token in tokens]\n",
    "    return tokens\n",
    "\n",
    "# Load metadata as both dataframe and list\n",
    "def load_metadata(file_path):\n",
    "    df = pd.read_csv(file_path, low_memory=False)\n",
    "    df = df[['cord_uid', 'title', 'abstract', 'authors', 'journal']].dropna()  # Keep only required columns\n",
    "    df['document'] = df.apply(lambda x: f\"{x['title']} {x['abstract']} {x['authors']} {x['journal']}\", axis=1)\n",
    "   \n",
    "    # Store as a list of \"title + abstract\" for ranking models\n",
    "    doc_list = df['document'].tolist()\n",
    "    \n",
    "    return df, doc_list  # Return both formats\n",
    "    \n",
    "\n",
    "# Load qrels\n",
    "def load_qrels(file_path):  \n",
    "    qrels = defaultdict(dict)\n",
    "    with open(file_path, 'r') as f:\n",
    "        for line in f:\n",
    "            topic_id, _, doc_id, relevance = line.strip().split()\n",
    "            qrels[topic_id][doc_id] = int(relevance)\n",
    "    return qrels\n",
    "\n",
    "def load_queries(file_path):\n",
    "    tree = ET.parse(file_path)\n",
    "    root = tree.getroot()\n",
    "    queries = {}\n",
    "    for topic in root.findall('topic'):\n",
    "        topic_number = topic.get('number')\n",
    "        query_text = preprocess_text(topic.find('query').text)\n",
    "        queries[topic_number] = \" \".join(query_text)  # Ensure consistency\n",
    "    return queries\n",
    "\n",
    "metadata_path = \"data2/metadata.csv\"\n",
    "qrels_path = \"data2/qrels.txt\"\n",
    "queries_path = \"data2/topics.xml\"\n",
    "\n",
    "D, D_list = load_metadata(metadata_path)\n",
    "qrels = load_qrels(qrels_path)\n",
    "queries = load_queries(queries_path)"
   ]
  },
  {
   "cell_type": "markdown",
   "metadata": {},
   "source": [
    "<h3>Part I: clustering</h3>"
   ]
  },
  {
   "cell_type": "markdown",
   "metadata": {},
   "source": [
    "*A) Clustering*"
   ]
  },
  {
   "cell_type": "code",
   "execution_count": 3,
   "metadata": {},
   "outputs": [],
   "source": [
    "class BM25Vectorizer:\n",
    "    \"\"\"\n",
    "    Vectorize documents using the BM25 algorithm that convert text data into a numerical\n",
    "    form that retains textual information in a format suitable for the clustering algorithm \n",
    "    \"\"\"\n",
    "    def __init__(self, k1=1.5, b=0.75):\n",
    "        self.k1 = k1\n",
    "        self.b = b\n",
    "        # min_df (minimum document frequency) is set to ignore terms that appear too infrequently (in than 1% of the documents)\n",
    "        # max_df (maximum document frequency) is set to ignore terms that appear too frequently (in more than 50% of the documents)\n",
    "        self.vectorizer = TfidfVectorizer(tokenizer=self.LemmaTokenizer(), min_df=0.01, max_df=0.5)\n",
    "\n",
    "    class LemmaTokenizer:\n",
    "        def __init__(self):\n",
    "            self.wnl = WordNetLemmatizer()\n",
    "        def __call__(self, doc):\n",
    "            return [self.wnl.lemmatize(t) for t in word_tokenize(doc.lower()) if t not in punctuation]\n",
    "\n",
    "    def transform(self, docs): \n",
    "        doc_vectors = []\n",
    "        for doc in docs:\n",
    "            doc_tokens = self.vectorizer.build_tokenizer()(doc)\n",
    "            doc_scores = self.bm25.get_scores(doc_tokens)\n",
    "            doc_vectors.append(doc_scores)\n",
    "        return normalize(np.array(doc_vectors), axis=0)\n",
    "\n",
    "    def fit_transform(self, docs):\n",
    "        self.terms = self.vectorizer.fit(docs).get_feature_names_out()\n",
    "        tokenized_docs = [self.vectorizer.build_tokenizer()(doc) for doc in docs]\n",
    "        self.bm25 = BM25Okapi(tokenized_docs, k1=self.k1, b=self.b)\n",
    "        vectors = self.transform(docs)  \n",
    "        return vectors\n"
   ]
  },
  {
   "cell_type": "code",
   "execution_count": 4,
   "metadata": {},
   "outputs": [],
   "source": [
    "def determine_number_of_clusters(D, max_k):\n",
    "    \"\"\"\n",
    "    Function to determine the best number of clusters, \n",
    "    based on the elbow point and silhouette score\n",
    "    \"\"\"\n",
    "    # First step: Use elbow method to narrow down the range of potential values for k\n",
    "    distortions = []\n",
    "    for k in range(1, max_k + 1):\n",
    "        kmeans = KMeans(n_clusters=k, random_state=42)\n",
    "        kmeans.fit(D)\n",
    "        distortions.append(kmeans.inertia_)\n",
    "    \n",
    "    accelerations = np.diff(distortions, 2) # Compute second derivative (accelerations)\n",
    "    elbow_point = np.argmin(accelerations) # find the \"elbow\" by looking at the second derivative of the distortions list \n",
    "\n",
    "    # Second step: Calculate silhouette scores for values up to the elbow point\n",
    "    k_range = range(2, elbow_point + 1) \n",
    "    silhouette_scores = []\n",
    "    for k in k_range:\n",
    "        kmeans = KMeans(n_clusters=k, random_state=42)\n",
    "        labels = kmeans.fit_predict(D)\n",
    "        score = silhouette_score(D, labels)\n",
    "        silhouette_scores.append(score)\n",
    "    \n",
    "\n",
    "    # Select the best k based on the highest silhouette score\n",
    "    best_k = k_range[np.argmax(silhouette_scores)]\n",
    "    return best_k"
   ]
  },
  {
   "cell_type": "code",
   "execution_count": 6,
   "metadata": {},
   "outputs": [
    {
     "name": "stderr",
     "output_type": "stream",
     "text": [
      "/Users/amandatofthagen/anaconda3/envs/myenv/lib/python3.10/site-packages/sklearn/feature_extraction/text.py:517: UserWarning: The parameter 'token_pattern' will not be used since 'tokenizer' is not None'\n",
      "  warnings.warn(\n"
     ]
    },
    {
     "name": "stdout",
     "output_type": "stream",
     "text": [
      "[{'centroid': array([0.06631613, 0.04815744, 0.0681887 , 0.05485024, 0.05480798,\n",
      "       0.0532007 , 0.06798235, 0.06824556, 0.05025663, 0.04787436,\n",
      "       0.05274642, 0.06358274, 0.05649843, 0.05473724, 0.05868211,\n",
      "       0.06409319, 0.06414601, 0.06652891, 0.06790416, 0.06815638,\n",
      "       0.05192067, 0.04809944, 0.05969584, 0.0683008 , 0.06374919,\n",
      "       0.0690675 , 0.06673047, 0.06540228, 0.05516024, 0.0649144 ,\n",
      "       0.0524518 , 0.04686105, 0.06190761, 0.05481743, 0.05374882,\n",
      "       0.05571603, 0.06274598, 0.06530634, 0.06660713, 0.06709904,\n",
      "       0.06908371, 0.0650973 , 0.04933752, 0.06787921, 0.06587019,\n",
      "       0.06501897, 0.06402471, 0.05459786, 0.06796773, 0.06972024,\n",
      "       0.06646925, 0.06707058, 0.0660323 , 0.06670304, 0.055267  ,\n",
      "       0.06904103, 0.0665812 , 0.01816785, 0.06546858, 0.04718897,\n",
      "       0.06316063, 0.06660001, 0.04942565, 0.06594966, 0.06774339,\n",
      "       0.06370673, 0.06669334, 0.05471778, 0.05710848, 0.05175787,\n",
      "       0.06138134, 0.04411134, 0.0480951 , 0.06575078, 0.04962768,\n",
      "       0.05119662, 0.04889917, 0.06784231, 0.04699071, 0.05449526,\n",
      "       0.05717574, 0.05750372, 0.05186979, 0.06653704, 0.04251902,\n",
      "       0.05167638, 0.0526741 , 0.06694237, 0.06062418, 0.06745505,\n",
      "       0.06564602, 0.06528284, 0.06636093, 0.06186711, 0.06570769,\n",
      "       0.06279525, 0.04771767, 0.06243153, 0.0577446 , 0.0688238 ]), 'documents': ['qbz4furm', '5rpdt3fs', 'vzldm1ac', 'vbbewppa', 'z0ehfrg0', 'k4gtl2o7', 'arxrce2z', 'xpog8ghu', 'qa4rq9uu', 'bu5pzbnv', 'nb4437qs', 'v5doh977', 'bsbgjt1y', 'v30ovunl', '43eh6cqz', 'rbjkugw4', '3qhxrv6h', 'hc1id8pj', 'lovqsclb', '8wb3m3ux', '8j04y50s', 'mj9cngmx', '0mz8eo6y', 'ua9xagq3', 'y4rwvh1e', 'j1iylpgm', 'n3kjcm6s', 'my2l85bn', 'xw336yd6', 'iw6e55hb', '28iqe3jg', 'g9vcchrh', 'r4snyxr9', 'v2jdqq0e', 'byy8jwwz', 'uhwg608l', 'ir4qx9f0', 'qcfgigga', '2178imf2', '7q0lrfvd', '5y99v85r', 'mrbi0a7r', 'dw6v3wtm', 'g22ggyxb', '0mtq52hw', '7knnoajb', 'tr0gn3tm', '4jgp4235', 'imcsq99b', '8awrzba8', 'v1llxgys', 'lu3ngt6r', 'qfck720q', 'jh6d1o0i', 'wf0vonkn', 'y9bxc0x1', '14q0bj5p']}, {'centroid': array([0.11032318, 0.11185395, 0.11140557, 0.11545991, 0.11264912,\n",
      "       0.11583579, 0.11834818, 0.11524629, 0.11214543, 0.1143007 ,\n",
      "       0.11525553, 0.12121964, 0.11794183, 0.12129917, 0.11934301,\n",
      "       0.10573924, 0.11374395, 0.11337288, 0.11318483, 0.11879703,\n",
      "       0.11477252, 0.11496373, 0.12139745, 0.11805192, 0.11129085,\n",
      "       0.11119048, 0.12348819, 0.1204048 , 0.11876381, 0.10761786,\n",
      "       0.11534152, 0.11024805, 0.11431856, 0.1153033 , 0.11846042,\n",
      "       0.12234139, 0.12176037, 0.11994738, 0.11659513, 0.11794829,\n",
      "       0.11244862, 0.11061923, 0.1163256 , 0.10419433, 0.10788755,\n",
      "       0.10742804, 0.11526615, 0.12080399, 0.1112842 , 0.11293805,\n",
      "       0.11232256, 0.1124769 , 0.11588522, 0.11103796, 0.11974727,\n",
      "       0.11647563, 0.10773021, 0.00958213, 0.11211598, 0.11462324,\n",
      "       0.10497303, 0.11349336, 0.10962353, 0.1153969 , 0.11206817,\n",
      "       0.10843836, 0.11213767, 0.11442722, 0.11664977, 0.11593249,\n",
      "       0.1007197 , 0.11029454, 0.11232632, 0.11314233, 0.11607703,\n",
      "       0.11328098, 0.11600333, 0.11432484, 0.11262361, 0.11011028,\n",
      "       0.11851327, 0.11918279, 0.11891437, 0.11138134, 0.10237744,\n",
      "       0.11797536, 0.11448837, 0.11362121, 0.10767741, 0.12053342,\n",
      "       0.11565259, 0.11228252, 0.11712898, 0.10555123, 0.11027417,\n",
      "       0.107714  , 0.11068303, 0.11899675, 0.12011228, 0.12067094]), 'documents': ['ve8krq78', 't9ssj0uo', 'k2io05hy', 'p8cr1jq2', 'rrx2r4n2', 'r3fzwy00', 'w1sp0yyy', 'rdlinzrn', '9f1las3y', '15uecdpf', 'zatpm17s', 'mg3nywfx', 'dkncpt8g', '3zan82yf', '8pr5ispb', '3dt52avn', '97gw476y', 's79jvdkp', 'leedutqo', 'a3f4l6iu', 'dqabq6d8', 'rldr8om0', 'iicbaevw', '7fse4h3f', 'aonbvub5', 'dk7eij1l', '41m5b96p', 'k05vwuze', 'gffj8l4y', 'gipwq4sc', 'pxq11e4v', 'owdulq9l', 'xcd26vdv', '2g22oqf2', '9pkg7mbh', '264h6aao', 'rsltf8wi', 'w5aocf2q', 'f7f2urzl', 'fp76ssuu', 'dtvk4pvp', '0sd5mhll', 'yr28rp3d']}]\n"
     ]
    },
    {
     "name": "stderr",
     "output_type": "stream",
     "text": [
      "/Users/amandatofthagen/anaconda3/envs/myenv/lib/python3.10/site-packages/sklearn/feature_extraction/text.py:517: UserWarning: The parameter 'token_pattern' will not be used since 'tokenizer' is not None'\n",
      "  warnings.warn(\n"
     ]
    },
    {
     "data": {
      "image/png": "[encoded data removed]",
      "text/plain": [
       "<Figure size 1000x700 with 2 Axes>"
      ]
     },
     "metadata": {},
     "output_type": "display_data"
    }
   ],
   "source": [
    "def clustering(D, args=None):\n",
    "    if args is None:\n",
    "        args = {}\n",
    "\n",
    "    # Extract algorithm and maximum number of clusters to evaluate from args:\n",
    "    algorithm = args.get('algorithm', 'kmeans') # Default algorithm is k-means\n",
    "    max_k = args.get('max_k', 10) # Default maximum k to evaluate\n",
    "    vectorizer = args.get('vectorizer', BM25Vectorizer())\n",
    "\n",
    "    # Prepare document vectors\n",
    "    document_text = D.apply(lambda x: f\"{x['title']} {x['abstract']} {x['authors']} {x['journal']}\", axis=1)\n",
    "    document_vectors = vectorizer.fit_transform(document_text)\n",
    "\n",
    "    # Determine the best number of clusters (if not provided)\n",
    "    if 'num_clusters' not in args:\n",
    "        num_clusters = determine_number_of_clusters(document_vectors, max_k)\n",
    "    else:\n",
    "        num_clusters = args['num_clusters']\n",
    "\n",
    "    # Apply the chosen clustering algorithm\n",
    "    if algorithm == 'kmeans':\n",
    "        model = KMeans(n_clusters=num_clusters, random_state=42)\n",
    "        labels = model.fit_predict(document_vectors)\n",
    "        centroids = model.cluster_centers_\n",
    "    else:\n",
    "        # Add more clustering algorithms as needed\n",
    "        raise ValueError(\"Unsupported algorithm\")\n",
    "\n",
    "   # Group document IDs by cluster\n",
    "    clusters = {i: [] for i in range(num_clusters)}\n",
    "    for idx, label in enumerate(labels):\n",
    "        clusters[label].append(D.iloc[idx]['cord_uid'])\n",
    "\n",
    "    # Generate output\n",
    "    clustering_solution = []\n",
    "    for i in range(num_clusters):\n",
    "        cluster_info = {\n",
    "            'centroid': centroids[i] if 'centroids' in locals() else None,\n",
    "            'documents': clusters[i]\n",
    "        }\n",
    "        clustering_solution.append(cluster_info)\n",
    "\n",
    "    return clustering_solution\n",
    "\n",
    "\n",
    "def plot_clusters_pca(document_vectors, labels, centroids):\n",
    "    pca = PCA(n_components=2)  # Reduce dimensions to 2 for visualization\n",
    "    reduced_data = pca.fit_transform(document_vectors)\n",
    "    reduced_centroids = pca.transform(centroids)\n",
    "\n",
    "    plt.figure(figsize=(10, 7))\n",
    "    scatter = plt.scatter(reduced_data[:, 0], reduced_data[:, 1], c=labels, cmap='viridis', marker='o', alpha=0.5)\n",
    "    \n",
    "    # Plot centroids\n",
    "    plt.scatter(reduced_centroids[:, 0], reduced_centroids[:, 1], c='red', marker='X', s=100)\n",
    "    \n",
    "    plt.colorbar(scatter)\n",
    "    plt.title('2D PCA of Document Clusters')\n",
    "    plt.xlabel('Principal Component 1')\n",
    "    plt.ylabel('Principal Component 2')\n",
    "    plt.grid(True)\n",
    "    plt.show()\n",
    "\n",
    "\n",
    "\n",
    "# Example usage (with sample size):\n",
    "sample_size = 100\n",
    "sample_indices = random.sample(range(len(D)), sample_size)\n",
    "D_sample = D.iloc[sample_indices]\n",
    "sample_cluster_result = clustering(D_sample)\n",
    "print(sample_cluster_result)\n",
    "\n",
    "# Extract document vectors and labels for visualization\n",
    "vectorizer = BM25Vectorizer()\n",
    "document_text = D_sample.apply(lambda x: f\"{x['title']} {x['abstract']} {x['authors']} {x['journal']}\", axis=1)\n",
    "document_vectors = vectorizer.fit_transform(document_text)\n",
    "labels = [label for cluster in sample_cluster_result for label in [cluster['documents'].index(doc_id) for doc_id in cluster['documents']]]\n",
    "\n",
    "# Assuming centroids are extracted correctly from the clustering function\n",
    "centroids = np.array([cluster['centroid'] for cluster in sample_cluster_result if 'centroid' in cluster])\n",
    "\n",
    "# Call the visualization function\n",
    "plot_clusters_pca(document_vectors, labels, centroids)\n"
   ]
  },
  {
   "cell_type": "markdown",
   "metadata": {},
   "source": [
    "*B) Summarization*"
   ]
  },
  {
   "cell_type": "code",
   "execution_count": 7,
   "metadata": {},
   "outputs": [
    {
     "name": "stderr",
     "output_type": "stream",
     "text": [
      "/Users/amandatofthagen/anaconda3/envs/myenv/lib/python3.10/site-packages/sklearn/feature_extraction/text.py:517: UserWarning: The parameter 'token_pattern' will not be used since 'tokenizer' is not None'\n",
      "  warnings.warn(\n"
     ]
    },
    {
     "name": "stdout",
     "output_type": "stream",
     "text": [
      "Cluster Description: {'median_vector': array([0.08935336, 0.09597492, 0.10728078, 0.10388456, 0.09981993,\n",
      "       0.08174313, 0.09155003, 0.09367567, 0.09877769, 0.11057597,\n",
      "       0.11156988, 0.08195976, 0.09880238, 0.11279721, 0.09932237,\n",
      "       0.08423679, 0.08770128, 0.09826638, 0.09867912, 0.09866906,\n",
      "       0.10341828, 0.08618302, 0.08463925, 0.08847428, 0.08508196,\n",
      "       0.08847468, 0.0941681 , 0.10212557, 0.10084352, 0.09393578,\n",
      "       0.09753946, 0.0874568 , 0.10350743, 0.08517306, 0.        ,\n",
      "       0.08575115, 0.082155  , 0.09698582, 0.09716003, 0.0942992 ,\n",
      "       0.08397432, 0.09426518, 0.07520744, 0.09316545, 0.10178901,\n",
      "       0.08817351, 0.10443611, 0.07454947, 0.10867285, 0.09236551,\n",
      "       0.09389105, 0.09785901, 0.07622845, 0.09399487, 0.08044642,\n",
      "       0.09199165, 0.11677024]), 'medoid_document_title': 'Drosophila melanogaster as a model for studying the function of animal viral proteins'}\n"
     ]
    },
    {
     "name": "stderr",
     "output_type": "stream",
     "text": [
      "/Users/amandatofthagen/anaconda3/envs/myenv/lib/python3.10/site-packages/sklearn/feature_extraction/text.py:517: UserWarning: The parameter 'token_pattern' will not be used since 'tokenizer' is not None'\n",
      "  warnings.warn(\n"
     ]
    },
    {
     "name": "stdout",
     "output_type": "stream",
     "text": [
      "Cluster Description: {'median_vector': array([0.09570223, 0.11125069, 0.10918975, 0.10729081, 0.10266922,\n",
      "       0.1035551 , 0.10697658, 0.11450998, 0.11751794, 0.11726576,\n",
      "       0.10389253, 0.10259698, 0.11535545, 0.10531336, 0.10772579,\n",
      "       0.09325149, 0.10679994, 0.11259457, 0.11486337, 0.12935676,\n",
      "       0.10750518, 0.11546619, 0.1159235 , 0.09581094, 0.10106924,\n",
      "       0.10463007, 0.11058317, 0.10716857, 0.0952496 , 0.09791896,\n",
      "       0.10934983, 0.1043071 , 0.10979914, 0.10630759, 0.09694238,\n",
      "       0.11066308, 0.11722009, 0.11403255, 0.09124009, 0.10861866,\n",
      "       0.10709558, 0.09704236, 0.12139873]), 'medoid_document_title': 'Influenza A Virus Cell Entry, Replication, Virion Assembly and Movement'}\n"
     ]
    }
   ],
   "source": [
    "def interpret(cluster, D, args=None):\n",
    "    if args is None:\n",
    "        args = {}\n",
    "\n",
    "    # Retrieve document IDs from the cluster\n",
    "    document_ids = cluster['documents']\n",
    "    \n",
    "    # Filter DataFrame for documents in the cluster\n",
    "    cluster_data = D[D['cord_uid'].isin(document_ids)]\n",
    "\n",
    "    # Combine the desired fields into a single string for vectorization\n",
    "    document_texts = cluster_data.apply(lambda x: f\"{x['title']} {x['abstract']} {x['authors']} {x['journal']}\", axis=1)\n",
    "\n",
    "    # Prepare document vectors using BM25Vectorizer or any provided vectorizer\n",
    "    vectorizer = args.get('vectorizer', BM25Vectorizer())\n",
    "    document_vectors = vectorizer.fit_transform(document_texts)\n",
    "\n",
    "    # Compute the median vector\n",
    "    median_vector = np.median(document_vectors, axis=0)\n",
    "    \n",
    "\n",
    "    # Compute the medoid\n",
    "    if len(document_vectors) > 1:\n",
    "        distance_matrix = euclidean_distances(document_vectors, document_vectors)\n",
    "        medoid_index = np.argmin(np.sum(distance_matrix, axis=0))\n",
    "        medoid_document_content = cluster_data.iloc[medoid_index]['title']  # Fetching title or any other identifier\n",
    "    else:\n",
    "        medoid_document_content = cluster_data.iloc[0]['title']  # In case there's only one document in the cluster\n",
    "\n",
    "    # Description based on median and medoid\n",
    "    description = {\n",
    "        'median_vector': median_vector,\n",
    "        'medoid_document_title': medoid_document_content\n",
    "    }\n",
    "\n",
    "    return description\n",
    "\n",
    "\n",
    "# Example ussage: assuming 'D_sample' is a DataFrame version of your document data including 'cord_uid'\n",
    "for cluster in sample_cluster_result:\n",
    "    description = interpret(cluster, D_sample)  \n",
    "    print(\"Cluster Description:\", description)"
   ]
  },
  {
   "cell_type": "markdown",
   "metadata": {},
   "source": [
    "*D) Evaluation*"
   ]
  },
  {
   "cell_type": "code",
   "execution_count": 8,
   "metadata": {},
   "outputs": [
    {
     "name": "stderr",
     "output_type": "stream",
     "text": [
      "/Users/amandatofthagen/anaconda3/envs/myenv/lib/python3.10/site-packages/sklearn/feature_extraction/text.py:517: UserWarning: The parameter 'token_pattern' will not be used since 'tokenizer' is not None'\n",
      "  warnings.warn(\n"
     ]
    },
    {
     "name": "stdout",
     "output_type": "stream",
     "text": [
      "{'Silhouette Coefficient': 0.2006381553839305, 'Sum of Squared Errors (SSE)': 23.73635484717043, 'Cohesion': 3344.0414468874183, 'Separation': 0.4640519711848429}\n"
     ]
    }
   ],
   "source": [
    "def evaluate(D, args):\n",
    "    if args is None:\n",
    "        args = {}\n",
    "\n",
    "    clustering_results = args.get('clustering_results')\n",
    "    vectorizer = args.get('vectorizer', BM25Vectorizer())\n",
    "    document_text = D.apply(lambda x: f\"{x['title']} {x['abstract']} {x['authors']} {x['journal']}\", axis=1)\n",
    "    document_vectors = vectorizer.fit_transform(document_text)\n",
    "\n",
    "    # Create a mapping from document IDs to their indices\n",
    "    doc_id_to_index = {uid: idx for idx, uid in enumerate(D['cord_uid'])}\n",
    "\n",
    "    # Prepare labels for silhouette score and initialize metrics\n",
    "    labels = np.empty(len(D), dtype=int)\n",
    "    sse = 0\n",
    "    cohesion = 0\n",
    "    all_distances = euclidean_distances(document_vectors)\n",
    "\n",
    "    for cluster_index, cluster in enumerate(clustering_results):\n",
    "        # Convert document IDs to indices using the map\n",
    "        cluster_doc_indices = [doc_id_to_index[doc_id] for doc_id in cluster['documents'] if doc_id in doc_id_to_index]\n",
    "\n",
    "        for doc_index in cluster_doc_indices:\n",
    "            labels[doc_index] = cluster_index\n",
    "            sse += np.sum((document_vectors[doc_index] - cluster['centroid']) ** 2)\n",
    "            cohesion += np.sum(all_distances[doc_index][cluster_doc_indices])\n",
    "\n",
    "    # Calculate separation\n",
    "    separation = float('inf')\n",
    "    for i, cluster_a in enumerate(clustering_results):\n",
    "        for j, cluster_b in enumerate(clustering_results):\n",
    "            if i != j:\n",
    "                # Extract all pairwise distances between two clusters\n",
    "                a_indices = [doc_id_to_index[doc_id] for doc_id in cluster_a['documents'] if doc_id in doc_id_to_index]\n",
    "                b_indices = [doc_id_to_index[doc_id] for doc_id in cluster_b['documents'] if doc_id in doc_id_to_index]\n",
    "                inter_cluster_distances = all_distances[a_indices, :][:, b_indices]\n",
    "                if inter_cluster_distances.size > 0:\n",
    "                    separation = min(separation, np.min(inter_cluster_distances))\n",
    "\n",
    "    # Calculate Silhouette Coefficient\n",
    "    silhouette_avg = silhouette_score(document_vectors, labels)\n",
    "\n",
    "    evaluation_metrics = {\n",
    "        'Silhouette Coefficient': silhouette_avg,\n",
    "        'Sum of Squared Errors (SSE)': sse,\n",
    "        'Cohesion': cohesion,\n",
    "        'Separation': separation\n",
    "    }\n",
    "\n",
    "    return evaluation_metrics\n",
    "\n",
    "# Example usage\n",
    "args = {\n",
    "    'clustering_results': sample_cluster_result,  # Assume this variable holds your clustering output\n",
    "    'vectorizer': BM25Vectorizer()\n",
    "}\n",
    "evaluate_results = evaluate(D_sample, args)\n",
    "print(evaluate_results)\n"
   ]
  },
  {
   "cell_type": "markdown",
   "metadata": {},
   "source": [
    "<h3>Part II: classification</h3>"
   ]
  },
  {
   "cell_type": "markdown",
   "metadata": {},
   "source": [
    "*A) Feature extraction*"
   ]
  },
  {
   "cell_type": "code",
   "execution_count": null,
   "metadata": {},
   "outputs": [],
   "source": [
    "#code and statistics here"
   ]
  },
  {
   "cell_type": "markdown",
   "metadata": {},
   "source": [
    "*B) Classification*"
   ]
  },
  {
   "cell_type": "code",
   "execution_count": null,
   "metadata": {},
   "outputs": [],
   "source": [
    "#code here"
   ]
  },
  {
   "cell_type": "markdown",
   "metadata": {},
   "source": [
    "*C) Ranking extension*"
   ]
  },
  {
   "cell_type": "code",
   "execution_count": null,
   "metadata": {},
   "outputs": [],
   "source": [
    "#code here"
   ]
  },
  {
   "cell_type": "markdown",
   "metadata": {},
   "source": [
    "*D) Evaluation*"
   ]
  },
  {
   "cell_type": "code",
   "execution_count": null,
   "metadata": {},
   "outputs": [],
   "source": [
    "#code, statistics and/or charts here"
   ]
  },
  {
   "cell_type": "markdown",
   "metadata": {},
   "source": [
    "<H2>Question materials (optional)</H2>"
   ]
  },
  {
   "cell_type": "markdown",
   "metadata": {},
   "source": [
    "<H3>Part I: clustering</H3>"
   ]
  },
  {
   "cell_type": "markdown",
   "metadata": {},
   "source": [
    "**(1)** Do clustering-guided summarization alters the behavior and efficacy of the IR system?"
   ]
  },
  {
   "cell_type": "code",
   "execution_count": null,
   "metadata": {},
   "outputs": [],
   "source": [
    "#code, statistics and/or charts here"
   ]
  },
  {
   "cell_type": "markdown",
   "metadata": {},
   "source": [
    "**(2)** How sentence representations, clustering choices, and rank criteria impact summarization?"
   ]
  },
  {
   "cell_type": "code",
   "execution_count": null,
   "metadata": {},
   "outputs": [],
   "source": [
    "#code, statistics and/or charts here"
   ]
  },
  {
   "cell_type": "markdown",
   "metadata": {},
   "source": [
    "**...** (additional questions with empirical results)"
   ]
  },
  {
   "cell_type": "markdown",
   "metadata": {},
   "source": [
    "<H3>END</H3>"
   ]
  }
 ],
 "metadata": {
  "kernelspec": {
   "display_name": "myenv",
   "language": "python",
   "name": "python3"
  },
  "language_info": {
   "codemirror_mode": {
    "name": "ipython",
    "version": 3
   },
   "file_extension": ".py",
   "mimetype": "text/x-python",
   "name": "python",
   "nbconvert_exporter": "python",
   "pygments_lexer": "ipython3",
   "version": "3.10.16"
  }
 },
 "nbformat": 4,
 "nbformat_minor": 4
}
